{
 "cells": [
  {
   "cell_type": "code",
   "execution_count": null,
   "id": "fe9b4124",
   "metadata": {},
   "outputs": [],
   "source": [
    "1. **Roman to Integer**\n",
    "\n",
    "Roman numerals are represented by seven different symbols: `I`, `V`, `X`, `L`, `C`, `D` and `M`.\n",
    "\n",
    "```\n",
    "SymbolValue\n",
    "I             1\n",
    "V             5\n",
    "X             10\n",
    "L             50\n",
    "C             100\n",
    "D             500\n",
    "M             1000\n",
    "```\n",
    "\n",
    "For example, `2` is written as `II` in Roman numeral, just two ones added together. `12` is written as `XII`, which is \n",
    "simply `X + II`. The number `27` is written as `XXVII`, which is `XX + V + II`.\n",
    "\n",
    "Roman numerals are usually written largest to smallest from left to right. However, the numeral for four is not `IIII`. \n",
    "Instead, the number four is written as `IV`. Because the one is before the five we subtract it making four. The same \n",
    "principle applies to the number nine, which is written as `IX`. There are six instances where subtraction is used:\n",
    "\n",
    "- `I` can be placed before `V` (5) and `X` (10) to make 4 and 9.\n",
    "- `X` can be placed before `L` (50) and `C` (100) to make 40 and 90.\n",
    "- `C` can be placed before `D` (500) and `M` (1000) to make 400 and 900.\n",
    "\n",
    "Given a roman numeral, convert it to an integer.\n",
    "\n",
    "**Example 1:**\n",
    "Input: s = \"III\"\n",
    "Output: 3\n",
    "Explanation: III = 3."
   ]
  },
  {
   "cell_type": "code",
   "execution_count": 16,
   "id": "a9db2130",
   "metadata": {},
   "outputs": [
    {
     "name": "stdout",
     "output_type": "stream",
     "text": [
      "3\n"
     ]
    }
   ],
   "source": [
    "def romanToInt(s):\n",
    "    roman_map = {'I': 1, 'V': 5, 'X': 10, 'L': 50, 'C': 100, 'D': 500, 'M': 1000}\n",
    "    n = len(s)\n",
    "    num = roman_map[s[n - 1]]\n",
    "    for i in range(n - 2, -1, -1):\n",
    "        if roman_map[s[i]] >= roman_map[s[i + 1]]:\n",
    "            num += roman_map[s[i]]\n",
    "        else:\n",
    "            num -= roman_map[s[i]]\n",
    "    return num\n",
    "print(romanToInt(\"III\"))"
   ]
  },
  {
   "cell_type": "code",
   "execution_count": null,
   "id": "a2526880",
   "metadata": {},
   "outputs": [],
   "source": [
    "2. **Longest Substring Without Repeating Characters**\n",
    "\n",
    "Given a string `s`, find the length of the **longest substring** without repeating characters.\n",
    "\n",
    "**Example 1:**\n",
    "Input: s = \"abcabcbb\"\n",
    "Output: 3\n",
    "Explanation: The answer is \"abc\", with the length of 3.\n"
   ]
  },
  {
   "cell_type": "code",
   "execution_count": 17,
   "id": "beeb4b4f",
   "metadata": {},
   "outputs": [
    {
     "name": "stdout",
     "output_type": "stream",
     "text": [
      "The input string is geeksforgeeks\n",
      "The length of the longest non-repeating character substring is 7\n"
     ]
    }
   ],
   "source": [
    "\n",
    "import math\n",
    " \n",
    "def longestUniqueSubsttr(str):\n",
    "    test = \"\"\n",
    "    # Result\n",
    "    maxLength = -1\n",
    "     \n",
    "    # Return zero if string is empty\n",
    "    if (len(str) == 0):\n",
    "        return 0\n",
    "    elif(len(str) == 1):\n",
    "        return 1\n",
    "    for c in list(str):\n",
    "        current = \"\".join(c)\n",
    "         \n",
    "        # If string already contains the character\n",
    "        # Then substring after repeating character\n",
    "        if (current in test):\n",
    "            test = test[test.index(current) + 1:]\n",
    "        test = test + \"\".join(c)\n",
    "        maxLength = max(len(test), maxLength)\n",
    "    return maxLength\n",
    "string = \"geeksforgeeks\"\n",
    "print(\"The input string is\", string)\n",
    "length = longestUniqueSubsttr(string)\n",
    "print(\"The length of the longest non-repeating character substring is\", length)"
   ]
  },
  {
   "cell_type": "code",
   "execution_count": null,
   "id": "091fb1d2",
   "metadata": {},
   "outputs": [],
   "source": [
    " 3. **Majority Element**\n",
    "\n",
    "Given an array `nums` of size `n`, return *the majority element*.\n",
    "\n",
    "The majority element is the element that appears more than `⌊n / 2⌋` times. You may assume that the majority element \n",
    "always exists in the array.\n",
    "Example 1:\n",
    "Input: nums = [3,2,3]\n",
    "Output: 3"
   ]
  },
  {
   "cell_type": "code",
   "execution_count": 18,
   "id": "817e6f2f",
   "metadata": {},
   "outputs": [
    {
     "name": "stdout",
     "output_type": "stream",
     "text": [
      "1\n"
     ]
    }
   ],
   "source": [
    "def findMajority(arr, n):\n",
    "  \n",
    "    maxCount = 0\n",
    "    index = -1 \n",
    "    for i in range(n):\n",
    "  \n",
    "        count = 1\n",
    "        for j in range(i+1, n):\n",
    "  \n",
    "            if(arr[i] == arr[j]):\n",
    "                count += 1\n",
    "        if(count > maxCount):\n",
    "  \n",
    "            maxCount = count\n",
    "            index = i\n",
    "    if (maxCount > n//2):\n",
    "        print(arr[index])\n",
    "  \n",
    "    else:\n",
    "        print(\"No Majority Element\")\n",
    "if __name__ == \"__main__\":\n",
    "    arr = [1, 1, 2, 1, 3, 5, 1]\n",
    "    n = len(arr)\n",
    "    findMajority(arr, n)"
   ]
  },
  {
   "cell_type": "code",
   "execution_count": null,
   "id": "3394133c",
   "metadata": {},
   "outputs": [],
   "source": [
    "4. **Group Anagram**\n",
    "\n",
    "Given an array of strings `strs`, group **the anagrams** together. You can return the answer in **any order**.\n",
    "\n",
    "An **Anagram** is a word or phrase formed by rearranging the letters of a different word or phrase, typically using all\n",
    "the original letters exactly once.\n",
    "\n",
    "**Example 1:**\n",
    "Input: strs = [\"eat\",\"tea\",\"tan\",\"ate\",\"nat\",\"bat\"]\n",
    "Output: [[\"bat\"],[\"nat\",\"tan\"],[\"ate\",\"eat\",\"tea\"]]"
   ]
  },
  {
   "cell_type": "code",
   "execution_count": 19,
   "id": "998fd51d",
   "metadata": {},
   "outputs": [
    {
     "name": "stdout",
     "output_type": "stream",
     "text": [
      "bat eat tea ate tan nat "
     ]
    }
   ],
   "source": [
    "from typing import List, Tuple\n",
    "def create_duplicate_array(wordAr):\n",
    "    dup_array = []\n",
    "    for i, word in enumerate(wordAr):\n",
    "        dup_array.append((word, i))\n",
    "    return dup_array\n",
    "def print_anagrams_together(wordArr: List[str]):\n",
    "    dup_array = create_duplicate_array(wordArr)\n",
    "    for i in range(len(wordArr)):\n",
    "        dup_array[i] = (sorted(dup_array[i][0]), dup_array[i][1])\n",
    "    dup_array.sort()\n",
    "    for i in range(len(wordArr)):\n",
    "        print(wordArr[dup_array[i][1]], end=' ')\n",
    "wordArr = [\"eat\",\"tea\",\"tan\",\"ate\",\"nat\",\"bat\"]\n",
    "print_anagrams_together(wordArr)\n"
   ]
  },
  {
   "cell_type": "code",
   "execution_count": null,
   "id": "d12ef1be",
   "metadata": {},
   "outputs": [],
   "source": [
    " 5. **Ugly Numbers**\n",
    "\n",
    "An **ugly number** is a positive integer whose prime factors are limited to `2`, `3`, and `5`.\n",
    "\n",
    "Given an integer `n`, return *the* `nth` ***ugly number***.\n",
    "Example 1:\n",
    "Input: n = 10\n",
    "Output: 12\n",
    "Explanation: [1, 2, 3, 4, 5, 6, 8, 9, 10, 12] is the sequence of the first 10 ugly numbers."
   ]
  },
  {
   "cell_type": "code",
   "execution_count": 23,
   "id": "5fb655ef",
   "metadata": {},
   "outputs": [
    {
     "name": "stdout",
     "output_type": "stream",
     "text": [
      " ugly nos. are  12\n"
     ]
    }
   ],
   "source": [
    "def maxDivide(a, b):\n",
    "    while a % b == 0:\n",
    "        a = a / b\n",
    "    return a\n",
    " \n",
    "# Function to check if a number\n",
    "# is ugly or not\n",
    "def isUgly(no):\n",
    "    no = maxDivide(no, 2)\n",
    "    no = maxDivide(no, 3)\n",
    "    no = maxDivide(no, 5)\n",
    "    return 1 if no == 1 else 0\n",
    " \n",
    "# Function to get the nth ugly number\n",
    "def getNthUglyNo(n):\n",
    "    i = 1\n",
    "     \n",
    "    # ugly number count\n",
    "    count = 1 \n",
    " \n",
    "    # Check for all integers until\n",
    "    # ugly count becomes n\n",
    "    while n > count:\n",
    "        i += 1\n",
    "        if isUgly(i):\n",
    "            count += 1\n",
    "    return i\n",
    " \n",
    " \n",
    "# Driver code\n",
    "no = getNthUglyNo(10)\n",
    "print(f\" ugly nos. are \", no)"
   ]
  },
  {
   "cell_type": "code",
   "execution_count": null,
   "id": "b31876f5",
   "metadata": {},
   "outputs": [],
   "source": [
    " 6. **Top K Frequent Words**\n",
    "\n",
    "Given an array of strings `words` and an integer `k`, return *the* `k` *most frequent strings*.\n",
    "\n",
    "Return the answer **sorted** by **the frequency** from highest to lowest. Sort the words with the same frequency by \n",
    "their **lexicographical order**.\n",
    "Example 1:\n",
    "Input: words = [\"i\",\"love\",\"leetcode\",\"i\",\"love\",\"coding\"], k = 2\n",
    "Output: [\"i\",\"love\"]\n",
    "Explanation: \"i\" and \"love\" are the two most frequent words.\n",
    "Note that \"i\" comes before \"love\" due to a lower alphabetical order."
   ]
  },
  {
   "cell_type": "code",
   "execution_count": 26,
   "id": "1863e2b1",
   "metadata": {},
   "outputs": [
    {
     "name": "stdout",
     "output_type": "stream",
     "text": [
      "['i', 'love']\n"
     ]
    }
   ],
   "source": [
    "def topKFrequent( words, k):\n",
    "        wordsdict = {}\n",
    "        for word in words:\n",
    "            if word not in wordsdict.keys():\n",
    "                wordsdict[word] = 1\n",
    "            else:\n",
    "                wordsdict[word] += 1\n",
    "        \n",
    "        wordsdictsort = dict(sorted(wordsdict.items(), key=lambda item: item[1], reverse=True))\n",
    "\n",
    "        lexico = {}\n",
    "        for key, value in wordsdictsort.items():\n",
    "            if value not in lexico.keys():\n",
    "                lexico[value] = [key]\n",
    "            else:\n",
    "                lexico[value].append(key)\n",
    "                lexico[value].sort()\n",
    "\n",
    "        ans = []\n",
    "        for value in lexico.values():\n",
    "            ans.extend(value)\n",
    "\n",
    "        return ans[:k]\n",
    "print(topKFrequent([\"i\",\"love\",\"leetcode\",\"i\",\"love\",\"coding\"],2))"
   ]
  },
  {
   "cell_type": "code",
   "execution_count": null,
   "id": "5df8cd8c",
   "metadata": {},
   "outputs": [],
   "source": [
    "\n",
    "💡 7. **Sliding Window Maximum**\n",
    "\n",
    "You are given an array of integers `nums`, there is a sliding window of size `k` which is moving from the very left of \n",
    "the array to the very right. You can only see the `k` numbers in the window. Each time the sliding window moves right \n",
    "by one position.\n",
    "\n",
    "Return *the max sliding window*.\n",
    "\n",
    "**Example 1:**\n",
    "Input: nums = [1,3,-1,-3,5,3,6,7], k = 3\n",
    "Output: [3,3,5,5,6,7]\n",
    "Explanation:\n",
    "Window position                Max\n",
    "---------------               -----\n",
    "[1  3  -1] -3  5  3  6 7         3\n",
    " 1 [3  -1  -3] 5  3  6 7         3\n",
    " 1  3 [-1  -3  5] 3  6 7         5\n",
    " 1  3  -1 [-3  5  3] 6 7         5\n",
    " 1  3  -1  -3 [5  3  6]7         6\n",
    " 1  3  -1  -3  5 [3  6  7]       7"
   ]
  },
  {
   "cell_type": "code",
   "execution_count": null,
   "id": "31296df5",
   "metadata": {},
   "outputs": [],
   "source": [
    "def maxSlidingWindow( nums, k):\n",
    "    i=0\n",
    "    j=0\n",
    "    d=deque()\n",
    "    res=[]\n",
    "    while j<len(nums):\n",
    "        while  len(d)>0 and d[-1]<nums[j]:\n",
    "            d.pop()\n",
    "        d.append(nums[j])\n",
    "        if j-i+1<k:\n",
    "            j+=1\n",
    "        elif j-i+1==k:\n",
    "            res.append(d[0])\n",
    "            if d[0]==nums[i]:\n",
    "                d.popleft()\n",
    "            i+=1\n",
    "            j+=1\n",
    "    return res\n",
    "print(maxSlidingWindow([1,3,-1,-3,5,3,6,7],3))"
   ]
  },
  {
   "cell_type": "code",
   "execution_count": null,
   "id": "9085526a",
   "metadata": {},
   "outputs": [],
   "source": [
    " 8. **Find K Closest Elements**\n",
    "\n",
    "Given a **sorted** integer array `arr`, two integers `k` and `x`, return the `k` closest integers to `x` in the array. \n",
    "The result should also be sorted in ascending order.\n",
    "\n",
    "An integer `a` is closer to `x` than an integer `b` if:\n",
    "\n",
    "- `|a - x| < |b - x|`, or\n",
    "- `|a - x| == |b - x|` and `a < b`\n",
    "Example 1:\n",
    "Input: arr = [1,2,3,4,5], k = 4, x = 3\n",
    "Output: [1,2,3,4]"
   ]
  },
  {
   "cell_type": "code",
   "execution_count": 32,
   "id": "729a8fdb",
   "metadata": {},
   "outputs": [
    {
     "name": "stdout",
     "output_type": "stream",
     "text": [
      "4 2 5 1 "
     ]
    }
   ],
   "source": [
    "def findCrossOver(arr, low, high, x) :\n",
    "    if (arr[high] <= x) :\n",
    "        return high\n",
    "         \n",
    "    if (arr[low] > x) : \n",
    "        return low\n",
    "    mid = (low + high) // 2 \n",
    "    if (arr[mid] <= x and arr[mid + 1] > x) :\n",
    "        return mid\n",
    "    if(arr[mid] < x) :\n",
    "        return findCrossOver(arr, mid + 1, high, x)\n",
    "     \n",
    "    return findCrossOver(arr, low, mid - 1, x)\n",
    "def printKclosest(arr, x, k, n) :\n",
    "    l = findCrossOver(arr, 0, n - 1, x)\n",
    "    r = l + 1 \n",
    "    count = 0 \n",
    "    if (arr[l] == x) :\n",
    "        l -= 1\n",
    "    while (l >= 0 and r < n and count < k) :\n",
    "         \n",
    "        if (x - arr[l] < arr[r] - x) :\n",
    "            print(arr[l], end = \" \")\n",
    "            l -= 1\n",
    "        else :\n",
    "            print(arr[r], end = \" \")\n",
    "            r += 1\n",
    "        count += 1\n",
    "    while (count < k and l >= 0) :\n",
    "        print(arr[l], end = \" \")\n",
    "        l -= 1\n",
    "        count += 1\n",
    "    while (count < k and r < n) :\n",
    "        print(arr[r], end = \" \")\n",
    "        r += 1\n",
    "        count += 1\n",
    "if __name__ == \"__main__\" :\n",
    " \n",
    "    arr =[1,2,3,4,5]\n",
    "                 \n",
    "    n = len(arr)\n",
    "    x = 3\n",
    "    k = 4\n",
    "     \n",
    "    printKclosest(arr, x, 4, n)"
   ]
  },
  {
   "cell_type": "code",
   "execution_count": null,
   "id": "43ad6f2f",
   "metadata": {},
   "outputs": [],
   "source": []
  }
 ],
 "metadata": {
  "kernelspec": {
   "display_name": "Python 3 (ipykernel)",
   "language": "python",
   "name": "python3"
  },
  "language_info": {
   "codemirror_mode": {
    "name": "ipython",
    "version": 3
   },
   "file_extension": ".py",
   "mimetype": "text/x-python",
   "name": "python",
   "nbconvert_exporter": "python",
   "pygments_lexer": "ipython3",
   "version": "3.9.12"
  }
 },
 "nbformat": 4,
 "nbformat_minor": 5
}
